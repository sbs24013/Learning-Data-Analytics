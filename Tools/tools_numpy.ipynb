{
 "cells": [
  {
   "cell_type": "code",
   "execution_count": 1,
   "metadata": {},
   "outputs": [
    {
     "ename": "ModuleNotFoundError",
     "evalue": "No module named 'numpy'",
     "output_type": "error",
     "traceback": [
      "\u001b[1;31m---------------------------------------------------------------------------\u001b[0m",
      "\u001b[1;31mModuleNotFoundError\u001b[0m                       Traceback (most recent call last)",
      "Cell \u001b[1;32mIn[1], line 7\u001b[0m\n\u001b[0;32m      1\u001b[0m \u001b[38;5;66;03m# [도구 넘파이](https://colab.research.google.com/github/rickiepark/handson-ml3/blob/main/tools_numpy.ipynb)\u001b[39;00m\n\u001b[0;32m      2\u001b[0m \u001b[38;5;66;03m# 넘파이는 파이썬의 과학 컴퓨팅을 위한 기본 라이브러리.\u001b[39;00m\n\u001b[0;32m      3\u001b[0m \u001b[38;5;66;03m# 강력한 N-차원 배열 객체, 선형 대수, 푸리에(Fourier) 변환, 유사 난수 생성과 같은 함수 제공\u001b[39;00m\n\u001b[0;32m      4\u001b[0m \n\u001b[0;32m      5\u001b[0m \u001b[38;5;66;03m# 배열 생성\u001b[39;00m\n\u001b[1;32m----> 7\u001b[0m \u001b[38;5;28;01mimport\u001b[39;00m \u001b[38;5;21;01mnumpy\u001b[39;00m \u001b[38;5;28;01mas\u001b[39;00m \u001b[38;5;21;01mnp\u001b[39;00m\n",
      "\u001b[1;31mModuleNotFoundError\u001b[0m: No module named 'numpy'"
     ]
    }
   ],
   "source": [
    "# [도구 넘파이](https://colab.research.google.com/github/rickiepark/handson-ml3/blob/main/tools_numpy.ipynb)\n",
    "# 넘파이는 파이썬의 과학 컴퓨팅을 위한 기본 라이브러리.\n",
    "# 강력한 N-차원 배열 객체, 선형 대수, 푸리에(Fourier) 변환, 유사 난수 생성과 같은 함수 제공\n",
    "\n",
    "# 배열 생성\n",
    "\n",
    "import numpy as np"
   ]
  },
  {
   "cell_type": "code",
   "execution_count": null,
   "metadata": {},
   "outputs": [
    {
     "ename": "ModuleNotFoundError",
     "evalue": "No module named 'matplotlib'",
     "output_type": "error",
     "traceback": [
      "\u001b[1;31m---------------------------------------------------------------------------\u001b[0m",
      "\u001b[1;31mModuleNotFoundError\u001b[0m                       Traceback (most recent call last)",
      "Cell \u001b[1;32mIn[2], line 1\u001b[0m\n\u001b[1;32m----> 1\u001b[0m \u001b[38;5;28;01mimport\u001b[39;00m \u001b[38;5;21;01mmatplotlib\u001b[39;00m\n\u001b[0;32m      2\u001b[0m matplotlib\u001b[38;5;241m.\u001b[39mmatplotlib_fname()\n",
      "\u001b[1;31mModuleNotFoundError\u001b[0m: No module named 'matplotlib'"
     ]
    }
   ],
   "source": [
    "import matplotlib\n",
    "matplotlib.matplotlib_fname()"
   ]
  },
  {
   "cell_type": "code",
   "execution_count": null,
   "metadata": {},
   "outputs": [],
   "source": [
    "# np.zeros\n",
    "# 0으로 채워진 배열을 만든다\n",
    "np.zeros(5)"
   ]
  },
  {
   "cell_type": "code",
   "execution_count": null,
   "metadata": {},
   "outputs": [],
   "source": [
    "# 2D 배열(즉, 행렬)을 만들려면 우너하는 행과 열의 크기를 튜플로 전달한다\n",
    "np.zeros((3,4))"
   ]
  },
  {
   "cell_type": "code",
   "execution_count": null,
   "metadata": {},
   "outputs": [],
   "source": [
    "# 용어\n",
    "# - 넌파이에서 각 차원을 **축(axis)** 이라고 한다\n",
    "# - 축의 개수를 **랭크(rank)** 라고 한다\n",
    "#   - 3 x 4 행렬 = 랭크 2인 배열 (2차원 배열)\n",
    "#   - 첫 번째 축의 길이: 3, 두 번째 축의 길이: 4\n",
    "# - 배열의 축 길이를 배열의 **크기(shape)** 라고 한다\n",
    "#   - 위 행렬의 크기는 (3, 4)\n",
    "#   - 랭크는 크기의 길이와 같다\n",
    "# - 배열의 **사이즈(size)** 는 전체 원소의 개수. 축의 길이를 모두 곱해서 구할 수 있다. (3 x 4 = 12)\n",
    "\n",
    "a = np.zeros((3,4))\n",
    "a"
   ]
  },
  {
   "cell_type": "code",
   "execution_count": null,
   "metadata": {},
   "outputs": [],
   "source": [
    "a.shape"
   ]
  },
  {
   "cell_type": "code",
   "execution_count": null,
   "metadata": {},
   "outputs": [],
   "source": [
    "a.ndim # len(a.shape) # 축의 개수"
   ]
  },
  {
   "cell_type": "code",
   "execution_count": null,
   "metadata": {},
   "outputs": [],
   "source": [
    "a.size"
   ]
  },
  {
   "cell_type": "code",
   "execution_count": null,
   "metadata": {},
   "outputs": [],
   "source": [
    "# N-차원 배열\n",
    "# - 임의의 랭크 수를 가진 N-차원 배열을 만들 수 있다\n",
    "# - ex. 크기가 (2,3,4) 인 3D 배열(랭크=3)\n",
    "\n",
    "np.zeros((2,3,4))"
   ]
  },
  {
   "cell_type": "code",
   "execution_count": null,
   "metadata": {},
   "outputs": [],
   "source": [
    "# 넘파이 배열의 타입: `ndarray`\n",
    "\n",
    "type(np.zeros((2,3,4)))"
   ]
  },
  {
   "cell_type": "code",
   "execution_count": null,
   "metadata": {},
   "outputs": [],
   "source": [
    "# np.ones\n",
    "# ndarray를 만들수 있는 넘파이 함수\n",
    "# ex. 1로 채워진 3 x 4 크기의 행렬\n",
    "\n",
    "np.ones((3,4))"
   ]
  },
  {
   "cell_type": "code",
   "execution_count": null,
   "metadata": {},
   "outputs": [],
   "source": [
    "# np.full\n",
    "# 주어진 갑으로 지정된 크기의 배열을 초기화한다\n",
    "# 다음은 `pi`로 채워진 3 x 4 크기으 ㅣ배열\n",
    "\n",
    "np.full((3,4), np.pi)"
   ]
  },
  {
   "cell_type": "code",
   "execution_count": null,
   "metadata": {},
   "outputs": [],
   "source": [
    "# np.empty\n",
    "# 초기화되지 않은 2x3 크기의 배열을 만든다\n",
    "# 배열의 내용은 예측이 불가능하며 메모리 상황에 따라 달라진다\n",
    "\n",
    "np.empty((2,3))"
   ]
  },
  {
   "cell_type": "code",
   "execution_count": null,
   "metadata": {},
   "outputs": [],
   "source": [
    "# np.array\n",
    "# array 함수는 파이썬의 리스트를 사용하여 ndarray를 초기화한다\n",
    "\n",
    "np.array([[1,2,3,4], [10,20,30,40]])"
   ]
  },
  {
   "cell_type": "code",
   "execution_count": null,
   "metadata": {},
   "outputs": [],
   "source": [
    "# np.arrange\n",
    "# 파이썬 range 함수와 비슷한 넘파이 arange 함수를 사용하여 ndarray를 만들 수 있다\n",
    "\n",
    "np.arange(1, 5)"
   ]
  },
  {
   "cell_type": "code",
   "execution_count": null,
   "metadata": {},
   "outputs": [],
   "source": [
    "# 부동 소수도 가능\n",
    "np.arange(10., 5.0)"
   ]
  },
  {
   "cell_type": "code",
   "execution_count": null,
   "metadata": {},
   "outputs": [],
   "source": [
    "# 파이썬 기본 range 함수처럼 건너 뛰는 정도를 지정할 수 있다\n",
    "np.arange(1, 5, 0.5)"
   ]
  },
  {
   "cell_type": "code",
   "execution_count": null,
   "metadata": {},
   "outputs": [],
   "source": [
    "# 부동 소수를 사용하면 원소의 개수가 일정하지 않을 수 있다\n",
    "print(np.arange(0, 5/3, 1/3)) # 부동 소수 오차 때문에, max는 4/3 또는 5/3이 된다\n",
    "print(np.arange(0, 5/3, 0.333333333))\n",
    "print(np.arange(0, 5/3, 0.333333334))"
   ]
  },
  {
   "cell_type": "code",
   "execution_count": null,
   "metadata": {},
   "outputs": [],
   "source": [
    "# np.linespace\n",
    "# linespace 함수는 지정된 개수만큼 두 값 사이를 나눈 배열을 반환한다\n",
    "# arange와는 다르게 최갯값이 \"포함\"된다.\n",
    "print(np.linspace(0, 5/3, 6))"
   ]
  },
  {
   "cell_type": "code",
   "execution_count": null,
   "metadata": {},
   "outputs": [],
   "source": [
    "# np.rand와 np.randn\n",
    "# 넘파이 random 모듈에는 ndarray를 랜덤한 값으로 초기화할 수 있는 함수들이 많이 있다\n",
    "# ex. 균등 분포인 0과 1사이의 랜덤한 부동 소수로 3x4 행렬을 초기화한다\n",
    "np.random.rand(3,4)"
   ]
  },
  {
   "cell_type": "code",
   "execution_count": null,
   "metadata": {},
   "outputs": [],
   "source": [
    "# 평군이 0이고 분산이 1인 일변량 정규분포에서 샘플링한 랜덤한 부동 소수를 담은 3x4배열\n",
    "np.random.randn(3,4)"
   ]
  },
  {
   "cell_type": "code",
   "execution_count": null,
   "metadata": {},
   "outputs": [],
   "source": [
    "# 맷플롯립을 사용해 그린 그래프\n",
    "import matplotlib \n",
    "import matplotlib.pyplot as plt\n",
    "import sys\n",
    "\n",
    "# 코랩의 경우 나눔 폰트를 설치합니다.\n",
    "if 'google.colab' in sys.modules:\n",
    "  !sudo apt-get -qq -y install fonts-nanum\n",
    "  import matplotlib.font_manager as fm\n",
    "  font_files = fm.findSystemFonts(fontpaths=['/usr/share/fonts/truetype/nanum'])\n",
    "  for fpath in font_files:\n",
    "      fm.fontManager.addfont(fpath)\n",
    "\n",
    "# 나눔 폰트를 사용합니다.\n",
    "matplotlib.rc('font', family='NanumGothic')\n",
    "matplotlib.rcParams['axes.unicode_minus'] = False\n",
    "matplotlib.matplotlib_fname()"
   ]
  },
  {
   "cell_type": "code",
   "execution_count": null,
   "metadata": {},
   "outputs": [],
   "source": [
    "import matplotlib.pyplot as plt\n",
    "\n",
    "plt.hist(np.random.rand(100000), density=True, bins=100, histtype=\"step\", color=\"blue\", label=\"rand\")\n",
    "plt.hist(np.random.randn(100000), density=True, bins=100, histtype=\"step\", color=\"red\", label=\"randn\")\n",
    "plt.axis([-2.5, 2.5, 0, 1.1])\n",
    "plt.legend(loc = \"upper left\")\n",
    "plt.title(\"랜덤 분포\")\n",
    "plt.xlabel(\"값\")\n",
    "plt.ylabel(\"밀도\")\n",
    "plt.show()"
   ]
  },
  {
   "cell_type": "code",
   "execution_count": null,
   "metadata": {},
   "outputs": [],
   "source": [
    "# np.fromfunction\n",
    "# 함수를 사용해서 ndarray를 초기화할 수 있다\n",
    "def my_funciton(z, y, x):\n",
    "  return x + 10 * y + 100 * z\n",
    "\n",
    "np.fromfunction(my_funciton, (3, 2, 10))"
   ]
  },
  {
   "cell_type": "code",
   "execution_count": null,
   "metadata": {},
   "outputs": [],
   "source": [
    "# 넘파이는 먼저 크기가 (3, 2, 1)인 세 개의 ndarray를 만든다\n",
    "# 각 배열을 축을 따라 좌표 값과 같은 값을 가진다\n",
    "# 예를 들어, z 축에 있는 배열의 모든 원소는 z-축의 값과 같다\n",
    "\n",
    "np.fromfunction(lambda z, y, x: z, (3, 2, 10))"
   ]
  },
  {
   "cell_type": "code",
   "execution_count": null,
   "metadata": {},
   "outputs": [],
   "source": [
    "# `x + 10 * y + 100 * z`에서 x, y, z는 `ndarray`이다.\n",
    "# 함수 `my_funciton`이 원소마다 호출되는 것이 아니고 딱 **한 번**호출 된다\n",
    "# 그래서 효율적으로 초기화할 수 있다"
   ]
  },
  {
   "cell_type": "code",
   "execution_count": null,
   "metadata": {},
   "outputs": [],
   "source": [
    "# 배열 데이터\n",
    "\n",
    "# dtype\n",
    "# 넘파이의 `ndarray`는 모든 원소가 동일한 타입(보통 숫자)을 가지기 때문에 효율적이다\n",
    "# `dtype` 속성으로 쉽게 데이터 타입을 확인할 수 있다\n",
    "\n",
    "c = np.arange(1, 5)\n",
    "print(c.dtype, c)"
   ]
  },
  {
   "cell_type": "code",
   "execution_count": null,
   "metadata": {},
   "outputs": [],
   "source": [
    "c = np.arange(1.0, 5.0)\n",
    "print(c.dtype, c)"
   ]
  },
  {
   "cell_type": "code",
   "execution_count": null,
   "metadata": {},
   "outputs": [],
   "source": [
    "# 넘파이가 데이터 타입을 결정하도록 내버려두는 대신\n",
    "# `dtype` 매개변수를 사용해서 배열을 만들 때 명시적으로 지정할 수 있다\n",
    "d = np.arange(1, 5, dtype=np.complex64)\n",
    "print(d.dtype, d)"
   ]
  },
  {
   "cell_type": "code",
   "execution_count": null,
   "metadata": {},
   "outputs": [],
   "source": [
    "# 가능한 데이터 타입\n",
    "# `int8`, `int16`, `int32`, `int64`, `uint8`|`16`|`32`|`64`, `float16`|`32`|`64`, `complex64`|`128`가 있습니다. \n",
    "# 전체리스트: http://docs.scipy.org/doc/numpy/user/basics.types.html"
   ]
  },
  {
   "cell_type": "code",
   "execution_count": null,
   "metadata": {},
   "outputs": [],
   "source": [
    "# itemsize\n",
    "# 각 아이템의 크기(바이트)를 반환한다\n",
    "e = np.arange(1, 5, dtype=np.complex64)\n",
    "e.itemsize"
   ]
  },
  {
   "cell_type": "code",
   "execution_count": null,
   "metadata": {},
   "outputs": [],
   "source": [
    "# data 버퍼\n",
    "# 배열의 데이터는 1차원 바이트 버퍼로 메모리에 저장된다\n",
    "# data 속성을 사용해 참조할 수 있다\n",
    "\n",
    "f = np.array([[1,2], [1000, 2000]], dtype=np.int32)\n",
    "f.data"
   ]
  },
  {
   "cell_type": "code",
   "execution_count": null,
   "metadata": {},
   "outputs": [],
   "source": [
    "# 파이선 3에서는 f.data가 버퍼고\n",
    "# 파이썬 2에서는 memoryview 이다\n",
    "\n",
    "if (hasattr(f.data, \"tobytes\")):\n",
    "    data_bytes = f.data.tobytes() # python 3\n",
    "else:\n",
    "    data_bytes = memoryview(f.data).tobytes() # python 2\n",
    "\n",
    "data_bytes"
   ]
  },
  {
   "cell_type": "code",
   "execution_count": null,
   "metadata": {},
   "outputs": [],
   "source": [
    "# 여러 개의 ndarray가 데이터 버퍼를 공유할 수 있다\n",
    "# 하나를 수정하면 다른 것도 바뀐다\n",
    "\n",
    "# 배열 크기 변경\n",
    "# 자신을 변경\n",
    "# ndarray의 shape를 지정하면 간단히 크기를 바꿀 수 있다\n",
    "# 배열의 원소 개수는 동일하게 유지된다\n",
    "\n",
    "g = np.arange(24)\n",
    "print(g)\n",
    "print(\"랭크:\", g.ndim) # 1차 배열"
   ]
  },
  {
   "cell_type": "code",
   "execution_count": null,
   "metadata": {},
   "outputs": [],
   "source": [
    "g.shape = (6, 4)\n",
    "print(g)\n",
    "print(\"랭크:\", g.ndim) # 2차 배열"
   ]
  },
  {
   "cell_type": "code",
   "execution_count": null,
   "metadata": {},
   "outputs": [],
   "source": [
    "g.shape = (2, 3, 4)\n",
    "print(g)\n",
    "print(\"랭크:\", g.ndim) # 3차 배열"
   ]
  },
  {
   "cell_type": "code",
   "execution_count": null,
   "metadata": {},
   "outputs": [],
   "source": [
    "# reshape\n",
    "# 동일한 데이터를 가리키는 새로운 ndarray 객체를 반환\n",
    "# 한 배열을 수정하면 다른 것도 함께 바뀐다\n",
    "\n",
    "g2 = g.reshape(4,6) # 4 x 6 = 24; 크기가 동일 하는 경우만 수정 할 수 있다\n",
    "print(g2)\n",
    "print(\"랭크:\", g2.ndim)"
   ]
  },
  {
   "cell_type": "code",
   "execution_count": null,
   "metadata": {},
   "outputs": [],
   "source": [
    "# 행 1, 열 2의 원소를 999로 설정\n",
    "g2[1, 2] = 999\n",
    "g2"
   ]
  },
  {
   "cell_type": "code",
   "execution_count": null,
   "metadata": {},
   "outputs": [],
   "source": [
    "# 이에 상응하는 g의 원소도 수정된다\n",
    "g"
   ]
  },
  {
   "cell_type": "code",
   "execution_count": null,
   "metadata": {},
   "outputs": [],
   "source": [
    "# ravel\n",
    "# 동일한 데이터를 가리키는 새로운 1차원 ndarray를 반환한다\n",
    "g.ravel()"
   ]
  },
  {
   "cell_type": "code",
   "execution_count": null,
   "metadata": {},
   "outputs": [],
   "source": [
    "# 산술연상\n",
    "# 일반적인 산술연산은 모두 ndarray와 함께 사용할 수 있다\n",
    "\n",
    "a = np.array([14, 23, 32, 41])\n",
    "b = np.array([5,  4,  3,  2])\n",
    "print(\"a + b  =\", a + b)\n",
    "print(\"a - b  =\", a - b)\n",
    "print(\"a * b  =\", a * b)\n",
    "print(\"a / b  =\", a / b)\n",
    "print(\"a // b  =\", a // b)\n",
    "print(\"a % b  =\", a % b)\n",
    "print(\"a ** b =\", a ** b)"
   ]
  },
  {
   "cell_type": "code",
   "execution_count": null,
   "metadata": {},
   "outputs": [],
   "source": [
    "# 곱셉은 행렬 곱셈이 아니다\n",
    "# 배열의 크기가 같아야 한다. 그렇지 않으면 넘파이가 브로드캐스팅 규칙을 적용한다\n",
    "\n",
    "# 브로드캐스팅\n",
    "# 일반적으로 넘파이는 동일한 크기의 배열을 기대한다. 그렇지 않은 상황에서는 브로드캐스팅 규칙을 적용한다\n",
    "\n",
    "# 규칙 1\n",
    "# 배열의 랭크가 동일하지 않으면 랭크가 맞을 때 까지 랭크가 작은 배열 앞에 1을 추가한다. \n",
    "\n",
    "h = np.arange(5).reshape(1, 1, 5)\n",
    "print(h)\n"
   ]
  },
  {
   "cell_type": "code",
   "execution_count": null,
   "metadata": {},
   "outputs": [],
   "source": [
    "# (1, 1, 5) 크기의 3D 배열에 (5, ) 크기의 1D 배열을 더하는 경우\n",
    "# 브로드캐스팅의 규칙1이 적용된다\n",
    "h + [10, 20, 30, 40, 50] # 다음과 동일 h + [[[10, 20, 30, 40, 50]]]"
   ]
  },
  {
   "cell_type": "code",
   "execution_count": null,
   "metadata": {},
   "outputs": [],
   "source": [
    "# 규칙 2\n",
    "# 특정 차원이 1인 배열은 그 차원에서 크기가 가장 큰 배열의 크기에 맞춰 동작한다\n",
    "# 배열의 원소가 차원을 따라 반복한다\n",
    "\n",
    "k = np.arange(6).reshape(2,3)\n",
    "k"
   ]
  },
  {
   "cell_type": "code",
   "execution_count": null,
   "metadata": {},
   "outputs": [],
   "source": [
    "# 크기의 2D ndarray에 (2, 1) 크기의 2D 배열을 더하는 경우\n",
    "# 넘파이는 브로드캐스팅 규칙2를 적용한다\n",
    "\n",
    "k + [[100], [200]] # k + [[100, 100, 100], [200, 200, 200]]"
   ]
  },
  {
   "cell_type": "code",
   "execution_count": null,
   "metadata": {},
   "outputs": [],
   "source": [
    "# 규칙 1과 규칙 2가 동시에 동작할 수도 있다\n",
    "k + [100, 200, 300]\n",
    "\n",
    "# 규칙 1 적용: [[100, 200, 300]]\n",
    "# 규칙 2 적용: [[100, 200, 300], [100, 200, 300]]"
   ]
  },
  {
   "cell_type": "code",
   "execution_count": null,
   "metadata": {},
   "outputs": [],
   "source": [
    "k + 1000\n",
    "# k + [[1000, 1000, 1000], [1000, 1000, 1000]]"
   ]
  },
  {
   "cell_type": "code",
   "execution_count": null,
   "metadata": {},
   "outputs": [],
   "source": [
    "# 규칙 3\n",
    "# 규칙 1 & 2을 적용했을 때 모든 배열의 크기가 맞아야 한다\n",
    "\n",
    "try:\n",
    "  k + [33, 44]\n",
    "except ValueError as e:\n",
    "  print(e)\n"
   ]
  },
  {
   "cell_type": "code",
   "execution_count": null,
   "metadata": {},
   "outputs": [],
   "source": [
    "# 브로드캐스팅 규칙은 산술 연산 뿐만 아니라 넘파이 연산에서 많이 사용된다\n",
    "# https://numpy.org/doc/stable/user/basics.broadcasting.html\n",
    "\n",
    "# 업캐스팅\n",
    "# dtype이 다른 배열을 합칠 때 넘파이는 (실제 값에 상관없이) 모든 값을 다룰 수 있는 타입으로 업캐스팅한다\n",
    "\n",
    "k1 = np.arange(0, 5, dtype=np.uint8)\n",
    "print(k1, k1.dtype)"
   ]
  },
  {
   "cell_type": "code",
   "execution_count": null,
   "metadata": {},
   "outputs": [],
   "source": [
    "k2 = k1 + np.array([5, 6, 7, 8, 9], dtype=np.int8)\n",
    "print(k2.dtype, k2)"
   ]
  },
  {
   "cell_type": "code",
   "execution_count": null,
   "metadata": {},
   "outputs": [],
   "source": [
    "# 모든 int8와 uint8 값을 표현하기 위해 int16이 필요\n",
    "# 이 코드에서는 uint8이면 충분하지만 업캐스팅되었다\n",
    "k3 = k1 + 1.5\n",
    "print(k3.dtype, k3)"
   ]
  },
  {
   "cell_type": "code",
   "execution_count": null,
   "metadata": {},
   "outputs": [],
   "source": [
    "# 조건 연산자\n",
    "# 조건 연산자도 원소별로 적용된다\n",
    "\n",
    "m = np.array([20, -5, 30, 40])\n",
    "m < [15, 16, 35, 36]"
   ]
  },
  {
   "cell_type": "code",
   "execution_count": null,
   "metadata": {},
   "outputs": [],
   "source": [
    "# 브로드캐스팅을 사용\n",
    "m < 25 # m < [25, 25, 25, 25]"
   ]
  },
  {
   "cell_type": "code",
   "execution_count": null,
   "metadata": {},
   "outputs": [],
   "source": [
    "# 불리언 인덱싱과 함께 사용하면 아주 유용하다\n",
    "m[m<25]"
   ]
  },
  {
   "cell_type": "code",
   "execution_count": null,
   "metadata": {},
   "outputs": [],
   "source": [
    "# 수학 함수와 통계 함수\n",
    "# ndarray 에서 사용할 수 있는 수학 함수와 통계 함수가 많다\n",
    "\n",
    "# ndarray 함수\n",
    "# 일부 함수는 ndarray 메서드로 제공된다\n",
    "\n",
    "# mean\n",
    "# 크기에 상관없이 ndarray 에 있는 모든 우너소의 평균을 계산한다\n",
    "a = np.array([[-2.5, 3.1, 7], [10, 11, 12]])\n",
    "print(a)\n",
    "print(\"평균 =\", a.mean())"
   ]
  },
  {
   "cell_type": "code",
   "execution_count": null,
   "metadata": {},
   "outputs": [],
   "source": [
    "# 유용한 ndarray 메서드\n",
    "# prod: 주어진 축에 대한 배열의 요소의 곱을 계산\n",
    "# axis = 0: 열 기준으로 곱셈\n",
    "# axis = 1: 행 기준을호 곱셈\n",
    "for func in (a.min, a.max, a.sum, a.prod, a.std, a.var):\n",
    "  print(func.__name__, \"=\" , func())"
   ]
  },
  {
   "cell_type": "code",
   "execution_count": null,
   "metadata": {},
   "outputs": [],
   "source": [
    "# 매개변서 axis\n",
    "# 지정된 축을 따라 원소에 연산을 적용하는데 사용한다\n",
    "\n",
    "c=np.arange(24).reshape(2,3,4)\n",
    "c"
   ]
  },
  {
   "cell_type": "code",
   "execution_count": null,
   "metadata": {},
   "outputs": [],
   "source": [
    "c.sum(axis=0) # 첫 번째 축을 따라 더람, 결과는 3x4 배열"
   ]
  },
  {
   "cell_type": "code",
   "execution_count": null,
   "metadata": {},
   "outputs": [],
   "source": [
    "c.sum(axis=1)  # 두 번째 축을 따라 더함, 결과는 (2, 4) 배열"
   ]
  },
  {
   "cell_type": "code",
   "execution_count": null,
   "metadata": {},
   "outputs": [],
   "source": [
    "# 여러 축에 대해서 더할 수도 있다\n",
    "c.sum(axis=(0, 2)) # 첫 번째 축과 세 번째 축을 따라 더함, 결과는 (3, ) 배열"
   ]
  },
  {
   "cell_type": "code",
   "execution_count": null,
   "metadata": {},
   "outputs": [],
   "source": [
    "sum([sum([ 0,  1,  2,  3]), sum([12, 13, 14, 15])]) # 60\n",
    "sum([sum([ 4,  5,  6,  7]), sum([16, 17, 18, 19])]) # 92\n",
    "sum([sum([ 8,  9, 10, 11]), sum([20, 21, 22, 23])]) # 124"
   ]
  },
  {
   "cell_type": "code",
   "execution_count": null,
   "metadata": {},
   "outputs": [],
   "source": [
    "# 일반 함수\n",
    "# https://colab.research.google.com/github/rickiepark/handson-ml3/blob/main/tools_numpy.ipynb#scrollTo=qCVCQFC8HFJ_&uniqifier=1"
   ]
  }
 ],
 "metadata": {
  "kernelspec": {
   "display_name": "Python 3",
   "language": "python",
   "name": "python3"
  },
  "language_info": {
   "codemirror_mode": {
    "name": "ipython",
    "version": 3
   },
   "file_extension": ".py",
   "mimetype": "text/x-python",
   "name": "python",
   "nbconvert_exporter": "python",
   "pygments_lexer": "ipython3",
   "version": "3.11.3"
  }
 },
 "nbformat": 4,
 "nbformat_minor": 2
}
