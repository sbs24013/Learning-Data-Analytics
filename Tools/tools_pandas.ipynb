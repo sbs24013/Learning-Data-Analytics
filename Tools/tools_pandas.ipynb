{
 "cells": [
  {
   "cell_type": "code",
   "execution_count": null,
   "metadata": {},
   "outputs": [],
   "source": [
    "# tools_pandas.ipynb\n",
    "# https://github.com/rickiepark/handson-ml3/blob/main/tools_pandas.ipynb"
   ]
  },
  {
   "cell_type": "markdown",
   "metadata": {},
   "source": [
    "# 도구 - 판다스\n",
    "\n",
    "사용하기 쉬운 고성능 데이터 구조와 데이터 분석 도구를 제공"
   ]
  }
 ],
 "metadata": {
  "language_info": {
   "name": "python"
  }
 },
 "nbformat": 4,
 "nbformat_minor": 2
}
